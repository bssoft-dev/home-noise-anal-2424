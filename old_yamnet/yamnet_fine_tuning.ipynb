{
  "cells": [
    {
      "cell_type": "code",
      "execution_count": 2,
      "metadata": {
        "id": "M0woGtbhsxQg"
      },
      "outputs": [
        {
          "name": "stderr",
          "output_type": "stream",
          "text": [
            "2024-10-07 05:29:37.070402: I tensorflow/core/util/port.cc:110] oneDNN custom operations are on. You may see slightly different numerical results due to floating-point round-off errors from different computation orders. To turn them off, set the environment variable `TF_ENABLE_ONEDNN_OPTS=0`.\n",
            "2024-10-07 05:29:37.121609: I tensorflow/core/platform/cpu_feature_guard.cc:182] This TensorFlow binary is optimized to use available CPU instructions in performance-critical operations.\n",
            "To enable the following instructions: AVX2 AVX512F AVX512_VNNI FMA, in other operations, rebuild TensorFlow with the appropriate compiler flags.\n"
          ]
        }
      ],
      "source": [
        "import sys\n",
        "sys.path.append('/app')\n",
        "\n",
        "import os\n",
        "\n",
        "import tensorflow as tf\n",
        "# import tensorflow_hub as hub\n",
        "import tensorflow_io as tfio\n",
        "\n",
        "from model import yamnet_params\n",
        "from model import yamnet as yamnet_model"
      ]
    },
    {
      "cell_type": "code",
      "execution_count": 3,
      "metadata": {},
      "outputs": [
        {
          "name": "stdout",
          "output_type": "stream",
          "text": [
            "GPU 사용 가능: True\n",
            "사용 가능한 GPU: [PhysicalDevice(name='/physical_device:GPU:0', device_type='GPU'), PhysicalDevice(name='/physical_device:GPU:1', device_type='GPU')]\n",
            "2.12.0\n"
          ]
        }
      ],
      "source": [
        "print(\"GPU 사용 가능:\", tf.test.is_built_with_cuda())\n",
        "print(\"사용 가능한 GPU:\", tf.config.list_physical_devices('GPU'))\n",
        "print(tf.__version__)"
      ]
    },
    {
      "cell_type": "code",
      "execution_count": 4,
      "metadata": {},
      "outputs": [],
      "source": [
        "# GPU 1번 사용\n",
        "tf.config.set_visible_devices([tf.config.list_physical_devices('GPU')[0]], 'GPU')\n"
      ]
    },
    {
      "cell_type": "code",
      "execution_count": 5,
      "metadata": {},
      "outputs": [],
      "source": [
        "hub_dir = '/ai_hub_data/Training/01.원천데이터'\n",
        "# dirs = os.listdir(hub_dir)\n",
        "# my_classes = set()\n",
        "# for folder_name in dirs:\n",
        "#     if folder_name.split('_')[1] == 'A.층간소음':\n",
        "#         my_classes.add(folder_name.split('.')[-1])\n",
        "# for my_class in my_classes:\n",
        "#     print(my_class)\n",
        "    \n",
        "my_classes = [\n",
        "    \"어른발걸음소리\",\n",
        "    \"아이들발걸음소리\",\n",
        "    \"망치질소리\",\n",
        "    \"가구끄는소리\",\n",
        "    \"문여닫는소리\",\n",
        "    \"런닝머신에서뛰는소리\",\n",
        "    \"골프퍼팅(골굴리는소리)\",\n",
        "    \"화장실물내리는소리\",\n",
        "    \"샤워할때물소리\",\n",
        "    \"드럼세탁기소리\",\n",
        "    \"통돌이세탁기소리\",\n",
        "    \"진공청소기소리\",\n",
        "    \"식기세척기소리\",\n",
        "    \"바이올린연주소리\",\n",
        "    \"피아노연주소리\",\n",
        "    \"강아지짓는소리\",\n",
        "    \"고양이우는소리\"\n",
        "]\n"
      ]
    },
    {
      "attachments": {},
      "cell_type": "markdown",
      "metadata": {},
      "source": [
        "## 목표\n",
        "```\n",
        "Inputlayer(audio) --> KerasLayer(yamnet) --> Sequential(my_model) --> ReduceMenaLayer(classifier)\n",
        "```"
      ]
    },
    {
      "cell_type": "code",
      "execution_count": 23,
      "metadata": {},
      "outputs": [
        {
          "name": "stdout",
          "output_type": "stream",
          "text": [
            "Model: \"home_noise_classifier\"\n",
            "_________________________________________________________________\n",
            " Layer (type)                Output Shape              Param #   \n",
            "=================================================================\n",
            " dropout_1 (Dropout)         (None, 1024)              0         \n",
            "                                                                 \n",
            " dense_7 (Dense)             (None, 128)               131200    \n",
            "                                                                 \n",
            " dropout_2 (Dropout)         (None, 128)               0         \n",
            "                                                                 \n",
            " dense_8 (Dense)             (None, 17)                2193      \n",
            "                                                                 \n",
            "=================================================================\n",
            "Total params: 133,393\n",
            "Trainable params: 133,393\n",
            "Non-trainable params: 0\n",
            "_________________________________________________________________\n"
          ]
        }
      ],
      "source": [
        "\n",
        "# Make my model\n",
        "map_class_to_id = {name: index for index, name in enumerate(my_classes)}\n",
        "\n",
        "\n",
        "my_model = tf.keras.Sequential([\n",
        "    tf.keras.layers.Input(shape=(1024), dtype=tf.float32,\n",
        "                          name='input_embedding'),\n",
        "    tf.keras.layers.Dropout(0.5),\n",
        "    tf.keras.layers.Dense(128, activation='relu'),\n",
        "    tf.keras.layers.Dropout(0.5),\n",
        "    tf.keras.layers.Dense(len(my_classes))\n",
        "], name='home_noise_classifier')\n",
        "\n",
        "my_model.summary()\n"
      ]
    },
    {
      "cell_type": "code",
      "execution_count": 24,
      "metadata": {},
      "outputs": [],
      "source": [
        "\n",
        "my_model.compile(loss=tf.keras.losses.SparseCategoricalCrossentropy(from_logits=True),\n",
        "                 optimizer=\"adam\",\n",
        "                 metrics=['accuracy'])\n",
        "\n",
        "callback = tf.keras.callbacks.EarlyStopping(monitor='val_loss',\n",
        "                                            patience=10,\n",
        "                                            restore_best_weights=True)"
      ]
    },
    {
      "cell_type": "code",
      "execution_count": 19,
      "metadata": {},
      "outputs": [],
      "source": [
        "# Load yamnet\n",
        "params = yamnet_params.Params(sample_rate=16000, patch_hop_seconds=0.1)\n",
        "yamnet = yamnet_model.yamnet_frames_model(params)\n",
        "yamnet.load_weights('/app/model/yamnet.h5')\n"
      ]
    },
    {
      "cell_type": "code",
      "execution_count": 20,
      "metadata": {},
      "outputs": [],
      "source": [
        "# Utility functions for loading audio files and making sure the sample rate is correct.\n",
        "\n",
        "@tf.function\n",
        "def load_wav_16k_mono(filename):\n",
        "    try:\n",
        "        file_contents = tf.io.read_file(filename)\n",
        "        wav, sample_rate = tf.audio.decode_wav(file_contents, desired_channels=1)\n",
        "        wav = tf.squeeze(wav, axis=-1)\n",
        "        sample_rate = tf.cast(sample_rate, dtype=tf.int64)\n",
        "        wav = tfio.audio.resample(wav, rate_in=sample_rate, rate_out=16000)\n",
        "    except Exception as e:\n",
        "        print(f\"파일을 읽는 중 오류 발생: {filename} - {str(e)}\")\n",
        "        return None\n",
        "    return wav\n",
        "\n",
        "def load_wav_for_map(filename, label):\n",
        "    return load_wav_16k_mono(filename), label\n",
        "\n",
        "# applies the embedding extraction model to a wav data\n",
        "def extract_embedding(wav_data, label):\n",
        "  ''' run YAMNet to extract embedding from the wav data '''\n",
        "  scores, embeddings, spectrogram = yamnet(wav_data)\n",
        "  num_embeddings = tf.shape(embeddings)[0]\n",
        "  return (embeddings, tf.repeat(label, num_embeddings))\n"
      ]
    },
    {
      "cell_type": "code",
      "execution_count": 13,
      "metadata": {},
      "outputs": [
        {
          "name": "stdout",
          "output_type": "stream",
          "text": [
            "15300\n",
            "(TensorSpec(shape=(), dtype=tf.string, name=None), TensorSpec(shape=(), dtype=tf.int32, name=None))\n",
            "(TensorSpec(shape=<unknown>, dtype=tf.float32, name=None), TensorSpec(shape=(), dtype=tf.int32, name=None))\n"
          ]
        },
        {
          "name": "stderr",
          "output_type": "stream",
          "text": [
            "2024-10-07 05:57:24.073648: I tensorflow/core/common_runtime/executor.cc:1197] [/device:CPU:0] (DEBUG INFO) Executor start aborting (this does not indicate an error and you can ignore this message): INVALID_ARGUMENT: You must feed a value for placeholder tensor 'args_0' with dtype string\n",
            "\t [[{{node args_0}}]]\n"
          ]
        },
        {
          "name": "stdout",
          "output_type": "stream",
          "text": [
            "훈련 데이터셋 생성 완료\n",
            "(TensorSpec(shape=(None, 1024), dtype=tf.float32, name=None), TensorSpec(shape=(None,), dtype=tf.int32, name=None))\n"
          ]
        }
      ],
      "source": [
        "# Train dataset 생성\n",
        "train_dir = '/ai_hub_data/Training/04.balanced_cropped음원'\n",
        "\n",
        "labels = []\n",
        "filenames = []\n",
        "counter = 0\n",
        "for folder in os.listdir(train_dir):\n",
        "    for file in os.listdir(os.path.join(train_dir, folder)):\n",
        "        if file.split('.')[-1] == 'wav':\n",
        "            counter += 1\n",
        "            labels.append(map_class_to_id[folder])\n",
        "            filenames.append(os.path.join(train_dir, folder, file))\n",
        "print(counter)\n",
        "\n",
        "filenames_tensor = tf.constant(filenames)\n",
        "labels_tensor = tf.constant(labels)\n",
        "\n",
        "# 데이터 로드 및 전처리\n",
        "train_ds = tf.data.Dataset.from_tensor_slices((filenames_tensor, labels_tensor))\n",
        "print(train_ds.element_spec)\n",
        "train_ds = train_ds.map(load_wav_for_map)\n",
        "\n",
        "# None 값 필터링\n",
        "train_ds = train_ds.filter(lambda x, y: x is not None)\n",
        "\n",
        "print(train_ds.element_spec)\n",
        "\n",
        "# extract embedding with yamnet\n",
        "train_ds = train_ds.map(extract_embedding).unbatch()\n",
        "\n",
        "# 데이터셋 섞기 및 배치 설정\n",
        "BATCH_SIZE = 32\n",
        "train_ds = train_ds.shuffle(buffer_size=100).batch(BATCH_SIZE)\n",
        "\n",
        "# 데이터셋 캐싱 및 프리페치\n",
        "train_ds = train_ds.cache().prefetch(tf.data.AUTOTUNE)\n",
        "\n",
        "print(\"훈련 데이터셋 생성 완료\")\n",
        "print(train_ds.element_spec)\n",
        "\n",
        "# # 데이터셋 크기 확인\n",
        "# dataset_size = tf.data.experimental.cardinality(train_ds).numpy()\n",
        "# print(f\"데이터셋 크기: {dataset_size}\")\n"
      ]
    },
    {
      "cell_type": "code",
      "execution_count": 28,
      "metadata": {},
      "outputs": [
        {
          "name": "stdout",
          "output_type": "stream",
          "text": [
            "1700\n"
          ]
        },
        {
          "name": "stderr",
          "output_type": "stream",
          "text": [
            "2024-10-07 06:12:19.626268: I tensorflow/core/common_runtime/executor.cc:1197] [/device:CPU:0] (DEBUG INFO) Executor start aborting (this does not indicate an error and you can ignore this message): INVALID_ARGUMENT: You must feed a value for placeholder tensor 'args_0' with dtype string\n",
            "\t [[{{node args_0}}]]\n"
          ]
        },
        {
          "name": "stdout",
          "output_type": "stream",
          "text": [
            "검증 데이터셋 생성 완료\n",
            "(TensorSpec(shape=(None, 1024), dtype=tf.float32, name=None), TensorSpec(shape=(None,), dtype=tf.int32, name=None))\n"
          ]
        }
      ],
      "source": [
        "# Validation dataset 생성\n",
        "# val_dir = '/ai_hub_data/Validation/01.원천데이터'\n",
        "val_dir = '/ai_hub_data/Validation/04.balanced_cropped음원'\n",
        "\n",
        "labels = []\n",
        "filenames = []\n",
        "counter = 0\n",
        "for folder in os.listdir(val_dir):\n",
        "    for file in os.listdir(os.path.join(val_dir, folder)):\n",
        "        if file.split('.')[-1] == 'wav':\n",
        "            counter += 1\n",
        "            labels.append(map_class_to_id[folder])\n",
        "            filenames.append(os.path.join(val_dir, folder, file))\n",
        "print(counter)\n",
        "\n",
        "filenames_tensor = tf.constant(filenames)\n",
        "labels_tensor = tf.constant(labels)\n",
        "\n",
        "# 데이터 로드 및 전처리\n",
        "val_ds = tf.data.Dataset.from_tensor_slices((filenames_tensor, labels_tensor))\n",
        "val_ds = val_ds.map(load_wav_for_map)\n",
        "\n",
        "# None 값 필터링\n",
        "val_ds = val_ds.filter(lambda x, y: x is not None)\n",
        "\n",
        "# extract embedding with yamnet\n",
        "val_ds = val_ds.map(extract_embedding).unbatch()\n",
        "\n",
        "# 데이터셋 섞기\n",
        "BATCH_SIZE = 4\n",
        "val_ds = val_ds.shuffle(buffer_size=100)\n",
        "\n",
        "# small_train 셋 나누기, 배치 설정\n",
        "train_size = 1500\n",
        "small_train_ds = val_ds.take(train_size)\n",
        "val_ds = val_ds.skip(train_size)\n",
        "\n",
        "# 데이터셋 캐싱 및 프리페치\n",
        "small_train_ds = small_train_ds.cache().batch(BATCH_SIZE).prefetch(tf.data.AUTOTUNE)\n",
        "val_ds = val_ds.cache().batch(BATCH_SIZE).prefetch(tf.data.AUTOTUNE)\n",
        "\n",
        "print(\"검증 데이터셋 생성 완료\")\n",
        "print(val_ds.element_spec)"
      ]
    },
    {
      "cell_type": "code",
      "execution_count": null,
      "metadata": {},
      "outputs": [],
      "source": [
        "# 데이터셋의 형태 확인\n",
        "for waveforms, labels in val_ds.take(1):\n",
        "    print(\"파형 형태:\", waveforms.shape)\n",
        "    print(\"레이블 형태:\", labels.shape)\n",
        "       \n",
        "print(\"모델 입력 형태:\", my_model.input_shape)"
      ]
    },
    {
      "cell_type": "code",
      "execution_count": 29,
      "metadata": {},
      "outputs": [
        {
          "name": "stdout",
          "output_type": "stream",
          "text": [
            "Epoch 1/100\n"
          ]
        },
        {
          "name": "stderr",
          "output_type": "stream",
          "text": [
            "2024-10-07 06:12:26.481980: I tensorflow/core/common_runtime/executor.cc:1197] [/device:CPU:0] (DEBUG INFO) Executor start aborting (this does not indicate an error and you can ignore this message): INVALID_ARGUMENT: You must feed a value for placeholder tensor 'Placeholder/_99' with dtype resource\n",
            "\t [[{{node Placeholder/_99}}]]\n",
            "2024-10-07 06:12:26.484797: I tensorflow/core/common_runtime/executor.cc:1197] [/device:CPU:0] (DEBUG INFO) Executor start aborting (this does not indicate an error and you can ignore this message): INVALID_ARGUMENT: You must feed a value for placeholder tensor 'Placeholder/_85' with dtype resource\n",
            "\t [[{{node Placeholder/_85}}]]\n"
          ]
        },
        {
          "name": "stdout",
          "output_type": "stream",
          "text": [
            "    375/Unknown - 5s 11ms/step - loss: 0.1956 - accuracy: 0.9480"
          ]
        },
        {
          "name": "stderr",
          "output_type": "stream",
          "text": [
            "2024-10-07 06:12:31.636145: I tensorflow/core/common_runtime/executor.cc:1197] [/device:CPU:0] (DEBUG INFO) Executor start aborting (this does not indicate an error and you can ignore this message): INVALID_ARGUMENT: You must feed a value for placeholder tensor 'Placeholder/_89' with dtype resource\n",
            "\t [[{{node Placeholder/_89}}]]\n",
            "2024-10-07 06:12:31.638890: I tensorflow/core/common_runtime/executor.cc:1197] [/device:CPU:0] (DEBUG INFO) Executor start aborting (this does not indicate an error and you can ignore this message): INVALID_ARGUMENT: You must feed a value for placeholder tensor 'Placeholder/_66' with dtype resource\n",
            "\t [[{{node Placeholder/_66}}]]\n"
          ]
        },
        {
          "name": "stdout",
          "output_type": "stream",
          "text": [
            "375/375 [==============================] - 93s 247ms/step - loss: 0.1956 - accuracy: 0.9480 - val_loss: 14.1613 - val_accuracy: 0.0280\n",
            "Epoch 2/100\n",
            "375/375 [==============================] - 42s 111ms/step - loss: 0.2626 - accuracy: 0.9253 - val_loss: 16.7040 - val_accuracy: 0.0280\n",
            "Epoch 3/100\n",
            "375/375 [==============================] - 41s 109ms/step - loss: 0.2653 - accuracy: 0.9213 - val_loss: 20.5347 - val_accuracy: 0.0279\n",
            "Epoch 4/100\n",
            "375/375 [==============================] - 41s 110ms/step - loss: 0.2441 - accuracy: 0.9133 - val_loss: 24.9052 - val_accuracy: 0.0279\n",
            "Epoch 5/100\n",
            "375/375 [==============================] - 41s 110ms/step - loss: 0.2739 - accuracy: 0.9020 - val_loss: 29.1259 - val_accuracy: 0.0279\n",
            "Epoch 6/100\n",
            "375/375 [==============================] - 41s 110ms/step - loss: 0.2599 - accuracy: 0.9147 - val_loss: 32.5445 - val_accuracy: 0.0279\n",
            "Epoch 7/100\n",
            "375/375 [==============================] - 42s 111ms/step - loss: 0.2666 - accuracy: 0.9100 - val_loss: 35.5761 - val_accuracy: 0.0277\n",
            "Epoch 8/100\n",
            "375/375 [==============================] - 41s 111ms/step - loss: 0.2448 - accuracy: 0.9120 - val_loss: 39.1968 - val_accuracy: 0.0278\n",
            "Epoch 9/100\n",
            "375/375 [==============================] - 41s 109ms/step - loss: 0.2408 - accuracy: 0.9180 - val_loss: 44.9548 - val_accuracy: 0.0278\n",
            "Epoch 10/100\n",
            "375/375 [==============================] - 41s 111ms/step - loss: 0.2455 - accuracy: 0.9047 - val_loss: 47.8407 - val_accuracy: 0.0276\n",
            "Epoch 11/100\n",
            "375/375 [==============================] - 41s 110ms/step - loss: 0.2394 - accuracy: 0.9067 - val_loss: 50.3106 - val_accuracy: 0.0277\n"
          ]
        }
      ],
      "source": [
        "# Train my_model\n",
        "my_model.fit(small_train_ds, epochs=100, validation_data=val_ds, callbacks=[callback])\n",
        "# my_model.fit(val_ds, epochs=10, callbacks=[callback]) # 데이터가 너무 많아서 val 셋으로 train하기\n",
        "my_model.save('model/bs_home_noise_model_new1.h5')\n",
        "\n",
        "\n"
      ]
    },
    {
      "cell_type": "code",
      "execution_count": 34,
      "metadata": {},
      "outputs": [
        {
          "name": "stderr",
          "output_type": "stream",
          "text": [
            "2024-10-07 06:31:42.139559: I tensorflow/core/common_runtime/executor.cc:1197] [/device:CPU:0] (DEBUG INFO) Executor start aborting (this does not indicate an error and you can ignore this message): INVALID_ARGUMENT: You must feed a value for placeholder tensor 'inputs_3' with dtype int32 and shape [?]\n",
            "\t [[{{node inputs_3}}]]\n",
            "2024-10-07 06:31:42.142041: I tensorflow/core/common_runtime/executor.cc:1197] [/device:CPU:0] (DEBUG INFO) Executor start aborting (this does not indicate an error and you can ignore this message): INVALID_ARGUMENT: You must feed a value for placeholder tensor 'inputs_1' with dtype int32 and shape [3]\n",
            "\t [[{{node inputs_1}}]]\n",
            "2024-10-07 06:31:42.142132: I tensorflow/core/common_runtime/executor.cc:1197] [/device:CPU:0] (DEBUG INFO) Executor start aborting (this does not indicate an error and you can ignore this message): INVALID_ARGUMENT: You must feed a value for placeholder tensor 'inputs_1' with dtype int32 and shape [3]\n",
            "\t [[{{node inputs_1}}]]\n",
            "2024-10-07 06:31:42.177270: I tensorflow/core/common_runtime/executor.cc:1197] [/device:CPU:0] (DEBUG INFO) Executor start aborting (this does not indicate an error and you can ignore this message): INVALID_ARGUMENT: You must feed a value for placeholder tensor 'inputs_1' with dtype int32 and shape [1,2]\n",
            "\t [[{{node inputs_1}}]]\n",
            "2024-10-07 06:31:42.220420: I tensorflow/core/common_runtime/executor.cc:1197] [/device:CPU:0] (DEBUG INFO) Executor start aborting (this does not indicate an error and you can ignore this message): INVALID_ARGUMENT: You must feed a value for placeholder tensor 'inputs' with dtype int32\n",
            "\t [[{{node inputs}}]]\n",
            "2024-10-07 06:31:42.254419: I tensorflow/core/common_runtime/executor.cc:1197] [/device:CPU:0] (DEBUG INFO) Executor start aborting (this does not indicate an error and you can ignore this message): INVALID_ARGUMENT: You must feed a value for placeholder tensor 'inputs' with dtype int32 and shape [1]\n",
            "\t [[{{node inputs}}]]\n",
            "2024-10-07 06:31:42.254501: I tensorflow/core/common_runtime/executor.cc:1197] [/device:CPU:0] (DEBUG INFO) Executor start aborting (this does not indicate an error and you can ignore this message): INVALID_ARGUMENT: You must feed a value for placeholder tensor 'inputs' with dtype int32 and shape [1]\n",
            "\t [[{{node inputs}}]]\n",
            "2024-10-07 06:31:42.311556: I tensorflow/core/common_runtime/executor.cc:1197] [/device:CPU:0] (DEBUG INFO) Executor start aborting (this does not indicate an error and you can ignore this message): INVALID_ARGUMENT: You must feed a value for placeholder tensor 'inputs' with dtype int32\n",
            "\t [[{{node inputs}}]]\n",
            "2024-10-07 06:31:42.316725: I tensorflow/core/common_runtime/executor.cc:1197] [/device:CPU:0] (DEBUG INFO) Executor start aborting (this does not indicate an error and you can ignore this message): INVALID_ARGUMENT: You must feed a value for placeholder tensor 'inputs_1' with dtype int32 and shape [2]\n",
            "\t [[{{node inputs_1}}]]\n",
            "2024-10-07 06:31:42.316831: I tensorflow/core/common_runtime/executor.cc:1197] [/device:CPU:0] (DEBUG INFO) Executor start aborting (this does not indicate an error and you can ignore this message): INVALID_ARGUMENT: You must feed a value for placeholder tensor 'inputs_1' with dtype int32 and shape [2]\n",
            "\t [[{{node inputs_1}}]]\n",
            "2024-10-07 06:31:42.451735: I tensorflow/core/common_runtime/executor.cc:1197] [/device:CPU:0] (DEBUG INFO) Executor start aborting (this does not indicate an error and you can ignore this message): INVALID_ARGUMENT: You must feed a value for placeholder tensor 'inputs_3' with dtype int32 and shape [?]\n",
            "\t [[{{node inputs_3}}]]\n",
            "2024-10-07 06:31:42.472349: I tensorflow/core/common_runtime/executor.cc:1197] [/device:CPU:0] (DEBUG INFO) Executor start aborting (this does not indicate an error and you can ignore this message): INVALID_ARGUMENT: You must feed a value for placeholder tensor 'inputs_1' with dtype int32 and shape [1,2]\n",
            "\t [[{{node inputs_1}}]]\n",
            "2024-10-07 06:31:42.494600: I tensorflow/core/common_runtime/executor.cc:1197] [/device:CPU:0] (DEBUG INFO) Executor start aborting (this does not indicate an error and you can ignore this message): INVALID_ARGUMENT: You must feed a value for placeholder tensor 'inputs_3' with dtype int32 and shape [?]\n",
            "\t [[{{node inputs_3}}]]\n",
            "2024-10-07 06:31:42.572226: I tensorflow/core/common_runtime/executor.cc:1197] [/device:CPU:0] (DEBUG INFO) Executor start aborting (this does not indicate an error and you can ignore this message): INVALID_ARGUMENT: You must feed a value for placeholder tensor 'inputs_1' with dtype int32 and shape [2]\n",
            "\t [[{{node inputs_1}}]]\n",
            "2024-10-07 06:31:42.572318: I tensorflow/core/common_runtime/executor.cc:1197] [/device:CPU:0] (DEBUG INFO) Executor start aborting (this does not indicate an error and you can ignore this message): INVALID_ARGUMENT: You must feed a value for placeholder tensor 'inputs_1' with dtype int32 and shape [2]\n",
            "\t [[{{node inputs_1}}]]\n",
            "2024-10-07 06:31:42.597135: I tensorflow/core/common_runtime/executor.cc:1197] [/device:CPU:0] (DEBUG INFO) Executor start aborting (this does not indicate an error and you can ignore this message): INVALID_ARGUMENT: You must feed a value for placeholder tensor 'inputs_1' with dtype int32 and shape [2]\n",
            "\t [[{{node inputs_1}}]]\n",
            "2024-10-07 06:31:42.597226: I tensorflow/core/common_runtime/executor.cc:1197] [/device:CPU:0] (DEBUG INFO) Executor start aborting (this does not indicate an error and you can ignore this message): INVALID_ARGUMENT: You must feed a value for placeholder tensor 'inputs_1' with dtype int32 and shape [2]\n",
            "\t [[{{node inputs_1}}]]\n",
            "2024-10-07 06:31:42.615886: I tensorflow/core/common_runtime/executor.cc:1197] [/device:CPU:0] (DEBUG INFO) Executor start aborting (this does not indicate an error and you can ignore this message): INVALID_ARGUMENT: You must feed a value for placeholder tensor 'inputs' with dtype int32 and shape [1]\n",
            "\t [[{{node inputs}}]]\n",
            "2024-10-07 06:31:42.615985: I tensorflow/core/common_runtime/executor.cc:1197] [/device:CPU:0] (DEBUG INFO) Executor start aborting (this does not indicate an error and you can ignore this message): INVALID_ARGUMENT: You must feed a value for placeholder tensor 'inputs' with dtype int32 and shape [1]\n",
            "\t [[{{node inputs}}]]\n",
            "2024-10-07 06:31:42.731607: I tensorflow/core/common_runtime/executor.cc:1197] [/device:CPU:0] (DEBUG INFO) Executor start aborting (this does not indicate an error and you can ignore this message): INVALID_ARGUMENT: You must feed a value for placeholder tensor 'inputs' with dtype int32 and shape [1]\n",
            "\t [[{{node inputs}}]]\n",
            "2024-10-07 06:31:42.731702: I tensorflow/core/common_runtime/executor.cc:1197] [/device:CPU:0] (DEBUG INFO) Executor start aborting (this does not indicate an error and you can ignore this message): INVALID_ARGUMENT: You must feed a value for placeholder tensor 'inputs' with dtype int32 and shape [1]\n",
            "\t [[{{node inputs}}]]\n",
            "2024-10-07 06:31:42.770420: I tensorflow/core/common_runtime/executor.cc:1197] [/device:CPU:0] (DEBUG INFO) Executor start aborting (this does not indicate an error and you can ignore this message): INVALID_ARGUMENT: You must feed a value for placeholder tensor 'inputs_1' with dtype int32 and shape [3]\n",
            "\t [[{{node inputs_1}}]]\n",
            "2024-10-07 06:31:42.770511: I tensorflow/core/common_runtime/executor.cc:1197] [/device:CPU:0] (DEBUG INFO) Executor start aborting (this does not indicate an error and you can ignore this message): INVALID_ARGUMENT: You must feed a value for placeholder tensor 'inputs_1' with dtype int32 and shape [3]\n",
            "\t [[{{node inputs_1}}]]\n",
            "2024-10-07 06:31:43.116896: I tensorflow/core/common_runtime/executor.cc:1197] [/device:CPU:0] (DEBUG INFO) Executor start aborting (this does not indicate an error and you can ignore this message): INVALID_ARGUMENT: You must feed a value for placeholder tensor 'inputs_1' with dtype int32 and shape [2]\n",
            "\t [[{{node inputs_1}}]]\n",
            "2024-10-07 06:31:43.116991: I tensorflow/core/common_runtime/executor.cc:1197] [/device:CPU:0] (DEBUG INFO) Executor start aborting (this does not indicate an error and you can ignore this message): INVALID_ARGUMENT: You must feed a value for placeholder tensor 'inputs_1' with dtype int32 and shape [2]\n",
            "\t [[{{node inputs_1}}]]\n",
            "2024-10-07 06:31:43.238319: I tensorflow/core/common_runtime/executor.cc:1197] [/device:CPU:0] (DEBUG INFO) Executor start aborting (this does not indicate an error and you can ignore this message): INVALID_ARGUMENT: You must feed a value for placeholder tensor 'inputs_1' with dtype int32 and shape [2]\n",
            "\t [[{{node inputs_1}}]]\n",
            "2024-10-07 06:31:43.238424: I tensorflow/core/common_runtime/executor.cc:1197] [/device:CPU:0] (DEBUG INFO) Executor start aborting (this does not indicate an error and you can ignore this message): INVALID_ARGUMENT: You must feed a value for placeholder tensor 'inputs_1' with dtype int32 and shape [2]\n",
            "\t [[{{node inputs_1}}]]\n",
            "2024-10-07 06:31:43.256916: I tensorflow/core/common_runtime/executor.cc:1197] [/device:CPU:0] (DEBUG INFO) Executor start aborting (this does not indicate an error and you can ignore this message): INVALID_ARGUMENT: You must feed a value for placeholder tensor 'inputs_1' with dtype int32 and shape [2]\n",
            "\t [[{{node inputs_1}}]]\n",
            "2024-10-07 06:31:43.257027: I tensorflow/core/common_runtime/executor.cc:1197] [/device:CPU:0] (DEBUG INFO) Executor start aborting (this does not indicate an error and you can ignore this message): INVALID_ARGUMENT: You must feed a value for placeholder tensor 'inputs_1' with dtype int32 and shape [2]\n",
            "\t [[{{node inputs_1}}]]\n",
            "2024-10-07 06:31:43.357090: I tensorflow/core/common_runtime/executor.cc:1197] [/device:CPU:0] (DEBUG INFO) Executor start aborting (this does not indicate an error and you can ignore this message): INVALID_ARGUMENT: You must feed a value for placeholder tensor 'inputs' with dtype int32\n",
            "\t [[{{node inputs}}]]\n",
            "2024-10-07 06:31:43.434187: I tensorflow/core/common_runtime/executor.cc:1197] [/device:CPU:0] (DEBUG INFO) Executor start aborting (this does not indicate an error and you can ignore this message): INVALID_ARGUMENT: You must feed a value for placeholder tensor 'inputs_1' with dtype int32 and shape [3]\n",
            "\t [[{{node inputs_1}}]]\n",
            "2024-10-07 06:31:43.434283: I tensorflow/core/common_runtime/executor.cc:1197] [/device:CPU:0] (DEBUG INFO) Executor start aborting (this does not indicate an error and you can ignore this message): INVALID_ARGUMENT: You must feed a value for placeholder tensor 'inputs_1' with dtype int32 and shape [3]\n",
            "\t [[{{node inputs_1}}]]\n",
            "2024-10-07 06:31:43.447048: I tensorflow/core/common_runtime/executor.cc:1197] [/device:CPU:0] (DEBUG INFO) Executor start aborting (this does not indicate an error and you can ignore this message): INVALID_ARGUMENT: You must feed a value for placeholder tensor 'inputs_1' with dtype int32 and shape [2]\n",
            "\t [[{{node inputs_1}}]]\n",
            "2024-10-07 06:31:43.447161: I tensorflow/core/common_runtime/executor.cc:1197] [/device:CPU:0] (DEBUG INFO) Executor start aborting (this does not indicate an error and you can ignore this message): INVALID_ARGUMENT: You must feed a value for placeholder tensor 'inputs_1' with dtype int32 and shape [2]\n",
            "\t [[{{node inputs_1}}]]\n",
            "2024-10-07 06:31:43.690356: I tensorflow/core/common_runtime/executor.cc:1197] [/device:CPU:0] (DEBUG INFO) Executor start aborting (this does not indicate an error and you can ignore this message): INVALID_ARGUMENT: You must feed a value for placeholder tensor 'inputs_1' with dtype int32 and shape [3]\n",
            "\t [[{{node inputs_1}}]]\n",
            "2024-10-07 06:31:43.690465: I tensorflow/core/common_runtime/executor.cc:1197] [/device:CPU:0] (DEBUG INFO) Executor start aborting (this does not indicate an error and you can ignore this message): INVALID_ARGUMENT: You must feed a value for placeholder tensor 'inputs_1' with dtype int32 and shape [3]\n",
            "\t [[{{node inputs_1}}]]\n",
            "2024-10-07 06:31:43.756722: I tensorflow/core/common_runtime/executor.cc:1197] [/device:CPU:0] (DEBUG INFO) Executor start aborting (this does not indicate an error and you can ignore this message): INVALID_ARGUMENT: You must feed a value for placeholder tensor 'inputs_3' with dtype int32 and shape [?]\n",
            "\t [[{{node inputs_3}}]]\n",
            "2024-10-07 06:31:43.758686: I tensorflow/core/common_runtime/executor.cc:1197] [/device:CPU:0] (DEBUG INFO) Executor start aborting (this does not indicate an error and you can ignore this message): INVALID_ARGUMENT: You must feed a value for placeholder tensor 'inputs' with dtype int32\n",
            "\t [[{{node inputs}}]]\n",
            "2024-10-07 06:31:43.765252: I tensorflow/core/common_runtime/executor.cc:1197] [/device:CPU:0] (DEBUG INFO) Executor start aborting (this does not indicate an error and you can ignore this message): INVALID_ARGUMENT: You must feed a value for placeholder tensor 'inputs_1' with dtype int32 and shape [2]\n",
            "\t [[{{node inputs_1}}]]\n",
            "2024-10-07 06:31:43.765334: I tensorflow/core/common_runtime/executor.cc:1197] [/device:CPU:0] (DEBUG INFO) Executor start aborting (this does not indicate an error and you can ignore this message): INVALID_ARGUMENT: You must feed a value for placeholder tensor 'inputs_1' with dtype int32 and shape [2]\n",
            "\t [[{{node inputs_1}}]]\n",
            "2024-10-07 06:31:43.802801: I tensorflow/core/common_runtime/executor.cc:1197] [/device:CPU:0] (DEBUG INFO) Executor start aborting (this does not indicate an error and you can ignore this message): INVALID_ARGUMENT: You must feed a value for placeholder tensor 'inputs' with dtype int32 and shape [1]\n",
            "\t [[{{node inputs}}]]\n",
            "2024-10-07 06:31:43.802901: I tensorflow/core/common_runtime/executor.cc:1197] [/device:CPU:0] (DEBUG INFO) Executor start aborting (this does not indicate an error and you can ignore this message): INVALID_ARGUMENT: You must feed a value for placeholder tensor 'inputs' with dtype int32 and shape [1]\n",
            "\t [[{{node inputs}}]]\n"
          ]
        },
        {
          "ename": "ValueError",
          "evalue": "When input_signature is provided, all inputs to the Python function must be convertible to tensors:\n  inputs: (\n    <_PrefetchDataset element_spec=(TensorSpec(shape=(None, 1024), dtype=tf.float32, name=None), TensorSpec(shape=(None,), dtype=tf.int32, name=None))>)\n  input_signature: (\n    TensorSpec(shape=(None,), dtype=tf.float32, name=None)).",
          "output_type": "error",
          "traceback": [
            "\u001b[0;31m---------------------------------------------------------------------------\u001b[0m",
            "\u001b[0;31mValueError\u001b[0m                                Traceback (most recent call last)",
            "Cell \u001b[0;32mIn[34], line 23\u001b[0m\n\u001b[1;32m     13\u001b[0m my_model \u001b[38;5;241m=\u001b[39m hub\u001b[38;5;241m.\u001b[39mload(\u001b[38;5;124m'\u001b[39m\u001b[38;5;124mhttps://tfhub.dev/google/yamnet/1\u001b[39m\u001b[38;5;124m'\u001b[39m)\n\u001b[1;32m     16\u001b[0m \u001b[38;5;66;03m# # 검증 데이터셋으로 모델 평가\u001b[39;00m\n\u001b[1;32m     17\u001b[0m \u001b[38;5;66;03m# loss, accuracy = my_model.evaluate(val_ds)\u001b[39;00m\n\u001b[1;32m     18\u001b[0m \n\u001b[0;32m   (...)\u001b[0m\n\u001b[1;32m     21\u001b[0m \u001b[38;5;66;03m# 클래스별 정확도 계산\u001b[39;00m\n\u001b[1;32m     22\u001b[0m \u001b[38;5;66;03m# y_pred = my_model.predict(val_ds)\u001b[39;00m\n\u001b[0;32m---> 23\u001b[0m class_scores, embeddings, spectrogram \u001b[38;5;241m=\u001b[39m \u001b[43mmy_model\u001b[49m\u001b[43m(\u001b[49m\u001b[43mval_ds\u001b[49m\u001b[43m)\u001b[49m\n\u001b[1;32m     24\u001b[0m y_pred \u001b[38;5;241m=\u001b[39m np\u001b[38;5;241m.\u001b[39margmax(class_scores, axis\u001b[38;5;241m=\u001b[39m\u001b[38;5;241m1\u001b[39m)\u001b[38;5;241m%\u001b[39m\u001b[38;5;28mlen\u001b[39m(my_classes)\n\u001b[1;32m     25\u001b[0m y_true \u001b[38;5;241m=\u001b[39m np\u001b[38;5;241m.\u001b[39mconcatenate([y \u001b[38;5;28;01mfor\u001b[39;00m x, y \u001b[38;5;129;01min\u001b[39;00m val_ds], axis\u001b[38;5;241m=\u001b[39m\u001b[38;5;241m0\u001b[39m)\n",
            "File \u001b[0;32m/usr/local/lib/python3.8/dist-packages/tensorflow/python/saved_model/load.py:740\u001b[0m, in \u001b[0;36m_call_attribute\u001b[0;34m(instance, *args, **kwargs)\u001b[0m\n\u001b[1;32m    739\u001b[0m \u001b[38;5;28;01mdef\u001b[39;00m \u001b[38;5;21m_call_attribute\u001b[39m(instance, \u001b[38;5;241m*\u001b[39margs, \u001b[38;5;241m*\u001b[39m\u001b[38;5;241m*\u001b[39mkwargs):\n\u001b[0;32m--> 740\u001b[0m   \u001b[38;5;28;01mreturn\u001b[39;00m \u001b[43minstance\u001b[49m\u001b[38;5;241;43m.\u001b[39;49m\u001b[38;5;21;43m__call__\u001b[39;49m\u001b[43m(\u001b[49m\u001b[38;5;241;43m*\u001b[39;49m\u001b[43margs\u001b[49m\u001b[43m,\u001b[49m\u001b[43m \u001b[49m\u001b[38;5;241;43m*\u001b[39;49m\u001b[38;5;241;43m*\u001b[39;49m\u001b[43mkwargs\u001b[49m\u001b[43m)\u001b[49m\n",
            "File \u001b[0;32m/usr/local/lib/python3.8/dist-packages/tensorflow/python/util/traceback_utils.py:153\u001b[0m, in \u001b[0;36mfilter_traceback.<locals>.error_handler\u001b[0;34m(*args, **kwargs)\u001b[0m\n\u001b[1;32m    151\u001b[0m \u001b[38;5;28;01mexcept\u001b[39;00m \u001b[38;5;167;01mException\u001b[39;00m \u001b[38;5;28;01mas\u001b[39;00m e:\n\u001b[1;32m    152\u001b[0m   filtered_tb \u001b[38;5;241m=\u001b[39m _process_traceback_frames(e\u001b[38;5;241m.\u001b[39m__traceback__)\n\u001b[0;32m--> 153\u001b[0m   \u001b[38;5;28;01mraise\u001b[39;00m e\u001b[38;5;241m.\u001b[39mwith_traceback(filtered_tb) \u001b[38;5;28;01mfrom\u001b[39;00m \u001b[38;5;28;01mNone\u001b[39;00m\n\u001b[1;32m    154\u001b[0m \u001b[38;5;28;01mfinally\u001b[39;00m:\n\u001b[1;32m    155\u001b[0m   \u001b[38;5;28;01mdel\u001b[39;00m filtered_tb\n",
            "File \u001b[0;32m/usr/local/lib/python3.8/dist-packages/tensorflow/python/eager/polymorphic_function/function_spec.py:555\u001b[0m, in \u001b[0;36mcast_inputs_to_signature\u001b[0;34m(inputs, input_signature)\u001b[0m\n\u001b[1;32m    553\u001b[0m       need_packing \u001b[38;5;241m=\u001b[39m \u001b[38;5;28;01mTrue\u001b[39;00m\n\u001b[1;32m    554\u001b[0m     \u001b[38;5;28;01mexcept\u001b[39;00m \u001b[38;5;167;01mValueError\u001b[39;00m:\n\u001b[0;32m--> 555\u001b[0m       \u001b[38;5;28;01mraise\u001b[39;00m \u001b[38;5;167;01mValueError\u001b[39;00m(\u001b[38;5;124m\"\u001b[39m\u001b[38;5;124mWhen input_signature is provided, all inputs to \u001b[39m\u001b[38;5;124m\"\u001b[39m\n\u001b[1;32m    556\u001b[0m                        \u001b[38;5;124m\"\u001b[39m\u001b[38;5;124mthe Python function must be convertible to \u001b[39m\u001b[38;5;124m\"\u001b[39m\n\u001b[1;32m    557\u001b[0m                        \u001b[38;5;124m\"\u001b[39m\u001b[38;5;124mtensors:\u001b[39m\u001b[38;5;130;01m\\n\u001b[39;00m\u001b[38;5;124m\"\u001b[39m\n\u001b[1;32m    558\u001b[0m                        \u001b[38;5;124mf\u001b[39m\u001b[38;5;124m\"\u001b[39m\u001b[38;5;132;01m{\u001b[39;00mformat_error_message(inputs,\u001b[38;5;250m \u001b[39minput_signature)\u001b[38;5;132;01m}\u001b[39;00m\u001b[38;5;124m.\u001b[39m\u001b[38;5;124m\"\u001b[39m)\n\u001b[1;32m    560\u001b[0m \u001b[38;5;28;01mif\u001b[39;00m \u001b[38;5;28many\u001b[39m(\u001b[38;5;129;01mnot\u001b[39;00m spec\u001b[38;5;241m.\u001b[39mis_compatible_with(other)\n\u001b[1;32m    561\u001b[0m        \u001b[38;5;28;01mfor\u001b[39;00m spec, other \u001b[38;5;129;01min\u001b[39;00m \u001b[38;5;28mzip\u001b[39m(flat_input_signature, flatten_inputs)):\n\u001b[1;32m    562\u001b[0m   \u001b[38;5;28;01mraise\u001b[39;00m \u001b[38;5;167;01mValueError\u001b[39;00m(\u001b[38;5;124m\"\u001b[39m\u001b[38;5;124mPython inputs incompatible with input_signature:\u001b[39m\u001b[38;5;130;01m\\n\u001b[39;00m\u001b[38;5;124m\"\u001b[39m\n\u001b[1;32m    563\u001b[0m                    \u001b[38;5;124mf\u001b[39m\u001b[38;5;124m\"\u001b[39m\u001b[38;5;132;01m{\u001b[39;00mformat_error_message(inputs,\u001b[38;5;250m \u001b[39minput_signature)\u001b[38;5;132;01m}\u001b[39;00m\u001b[38;5;124m.\u001b[39m\u001b[38;5;124m\"\u001b[39m)\n",
            "\u001b[0;31mValueError\u001b[0m: When input_signature is provided, all inputs to the Python function must be convertible to tensors:\n  inputs: (\n    <_PrefetchDataset element_spec=(TensorSpec(shape=(None, 1024), dtype=tf.float32, name=None), TensorSpec(shape=(None,), dtype=tf.int32, name=None))>)\n  input_signature: (\n    TensorSpec(shape=(None,), dtype=tf.float32, name=None))."
          ]
        }
      ],
      "source": [
        "import numpy as np\n",
        "from sklearn.metrics import accuracy_score, confusion_matrix\n",
        "import seaborn as sns\n",
        "import matplotlib.pyplot as plt\n",
        "\n",
        "# seaborn 한글 폰트 설정\n",
        "sns.set_theme(font='NanumGothic')\n",
        "\n",
        "# my_model = tf.saved_model.load('/app/model/bs_home_noise_model.h5')\n",
        "my_model = tf.keras.models.load_model('model/bs_home_noise_model_new1.h5')\n",
        "\n",
        "\n",
        "# # 검증 데이터셋으로 모델 평가\n",
        "# loss, accuracy = my_model.evaluate(val_ds)\n",
        "\n",
        "# print(\"검증 손실:\", loss)\n",
        "# print(\"검증 정확도:\", accuracy)\n",
        "# 클래스별 정확도 계산\n",
        "y_pred = my_model.predict(val_ds)\n",
        "y_true = np.concatenate([y for x, y in val_ds], axis=0)\n",
        "\n",
        "class_accuracies = {}\n",
        "for i, class_name in enumerate(my_classes):\n",
        "    class_mask = y_true == i\n",
        "    class_accuracy = accuracy_score(y_true[class_mask], y_pred.argmax(axis=1)[class_mask])\n",
        "    class_accuracies[class_name] = class_accuracy\n",
        "    print(f\"{class_name} 정확도: {class_accuracy:.4f}\")\n",
        "\n",
        "# 혼동 행렬 생성 및 시각화\n",
        "cm = confusion_matrix(y_true, y_pred.argmax(axis=1))\n",
        "plt.figure(figsize=(10, 8))\n",
        "sns.heatmap(cm, annot=True, fmt='d', cmap='Blues', xticklabels=my_classes, yticklabels=my_classes)\n",
        "plt.title('Confusion Matrix')\n",
        "plt.xlabel('예측 클래스')\n",
        "plt.ylabel('실제 클래스')\n",
        "plt.show()\n"
      ]
    },
    {
      "cell_type": "code",
      "execution_count": null,
      "metadata": {},
      "outputs": [],
      "source": []
    },
    {
      "cell_type": "code",
      "execution_count": null,
      "metadata": {},
      "outputs": [],
      "source": [
        "import librosa\n",
        "\n",
        "# Check if the model is overfitting\n",
        "loss, accuracy = my_model.evaluate(val_ds)\n",
        "\n",
        "print(\"Loss: \", loss)\n",
        "print(\"Accuracy: \", accuracy)\n",
        "\n",
        "# Test\n",
        "# import soundfile as sf\n",
        "\n",
        "\n",
        "wav_file_name = '/ai_hub_data/Training/03.cropped음원/진공청소기소리/N-10_220915_A_3_e_12499_0.wav'\n",
        "# wav_data, sr = sf.read(wav_file_name, dtype=np.int16)\n",
        "# waveform = wav_data / 32768.0\n",
        "\n",
        "waveform = librosa.load(wav_file_name, sr=16000, mono=True)[0]\n",
        "\n",
        "print(waveform.shape)\n",
        "scores, embeddings, spectrogram = yamnet(waveform)\n",
        "print(embeddings.shape)\n",
        "print(scores.shape)\n",
        "result = my_model(embeddings).numpy()\n",
        "for i in range(result.shape[0]):\n",
        "    inferred_class = my_classes[result[i].argmax()]\n",
        "print(result.shape)\n",
        "print(result)\n",
        "inferred_class = my_classes[result.mean(axis=0).argmax()]\n",
        "print(f'The main sound is: {inferred_class}')\n"
      ]
    }
  ],
  "metadata": {
    "colab": {
      "name": "yamnet_visualization.ipynb",
      "provenance": []
    },
    "kernelspec": {
      "display_name": "Python 3",
      "language": "python",
      "name": "python3"
    },
    "language_info": {
      "codemirror_mode": {
        "name": "ipython",
        "version": 3
      },
      "file_extension": ".py",
      "mimetype": "text/x-python",
      "name": "python",
      "nbconvert_exporter": "python",
      "pygments_lexer": "ipython3",
      "version": "3.7.11"
    }
  },
  "nbformat": 4,
  "nbformat_minor": 0
}
